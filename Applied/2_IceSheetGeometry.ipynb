{
 "cells": [
  {
   "cell_type": "code",
   "execution_count": null,
   "id": "e509d147-4a12-4670-afe2-18e883943a63",
   "metadata": {},
   "outputs": [],
   "source": [
    "# You definitely need numpy and matplotlib, but add any other libraries you might want\n",
    "import numpy as np\n",
    "import matplotlib.pyplot as plt"
   ]
  },
  {
   "cell_type": "markdown",
   "id": "78cecae6-04c2-4d3f-acb2-7535f73bbe37",
   "metadata": {},
   "source": [
    "# Visualizing Ice-Sheet Geometry\n",
    "\n",
    "Use the file `IBCAO_with_BMG_5km.nc` for this exercise. Because I do not have a README for this dataset for you, I will describe it to you here:\n",
    "- This dataset is combined from two separate datasets, and represents Greenland and the surrounding area.\n",
    "- The first dataset is BedMachine Greenland (more info here: https://nsidc.org/data/idbmg4/versions/5 ), which provides the ice thickness and mask variables.\n",
    "- The second dataset is IBCAO (International Bathymetric Chart of the Arctic Ocean) (more info here: https://www.gebco.net/about-us/committees-groups/scrum/ibcao ), which provides the surface elevation and bed topography variables.\n",
    "- These datasets were interpolated onto a 5 kilometer XY grid for easier handling (this way it won't take you forever to load the datasets).\n",
    "\n",
    "The variables and their names are:\n",
    "| Variable Name      | Long name | Units |\n",
    "| ---------------| ----------- | -------- |\n",
    "| x | x grid distance | \\[km] |\n",
    "| y | y grid distance | \\[km] |\n",
    "| thickness | ice thickness | \\[m] |\n",
    "| usurf | surface elevation | \\[m] |\n",
    "| topg | bed topography elevation | \\[m] |\n",
    "| mask | mask for ice sheet area |\n",
    "| x_2 | (don't worry about this one)| \\[km] |\n",
    "\n",
    "\n",
    "Use the outline below to import the netcdf file and load your chosen variables as arrays."
   ]
  },
  {
   "cell_type": "code",
   "execution_count": null,
   "id": "76e2bbac-303c-41e4-a226-4f8c71d75957",
   "metadata": {},
   "outputs": [],
   "source": [
    "from netCDF4 import Dataset # import the package needed to manipulate netCDFs\n",
    "# If this cell fails, you might need to install netCDF4 first.\n",
    "# See here: https://unidata.github.io/netcdf4-python/\n",
    "\n",
    "# You can also do this (and it tends to be easier) with the package 'xarray',\n",
    "# but this is something you should probably only delve into if you will be using netCDFs \n",
    "# for your research this summer. :)"
   ]
  },
  {
   "cell_type": "code",
   "execution_count": null,
   "id": "80017602-223b-4104-be1c-aa38eda06c7d",
   "metadata": {},
   "outputs": [],
   "source": [
    "fn = '' # file name here\n",
    "nc = Dataset(fn)\n",
    "\n",
    "nc # take a look at the 'guts' of the data file"
   ]
  },
  {
   "cell_type": "code",
   "execution_count": null,
   "id": "60217f20-7802-4bc6-9957-7d1c6ff8d03a",
   "metadata": {},
   "outputs": [],
   "source": [
    "# replace the 'variable' here with your variable of interest:\n",
    "variable = nc.variables['variable'][:]"
   ]
  },
  {
   "cell_type": "markdown",
   "id": "ef6fcca0-d6e4-4b41-9711-6bf94b246154",
   "metadata": {},
   "source": [
    "Create polar stereographic maps (x-y) of:\n",
    "\n",
    "- The ice bed\n",
    "- The ice surface\n",
    "- The ice thickness"
   ]
  },
  {
   "cell_type": "code",
   "execution_count": null,
   "id": "474ff73f-239c-45fa-88e8-bbc4f656a9a3",
   "metadata": {},
   "outputs": [],
   "source": [
    "#plt.figure()"
   ]
  },
  {
   "cell_type": "markdown",
   "id": "372bae29-f24a-4d00-aef1-18831eeb2ca2",
   "metadata": {},
   "source": [
    "## Questions:\n",
    "\n",
    "1) What is the thickness value for where the ice sheet is the thickest? Where is the thickest ice located?\n",
    "\n",
    "2) Where is the bed 'overdeepened' (i.e. below sea level)?\n",
    "\n",
    "*Challenge:* Subsample a cross-section from the map-view data along some arbitrary line of your choosing. This could be across the entire ice sheet or for a more local catchment, or anywhere really! Plot the bed and surface elevation together in this cross-sectional view. "
   ]
  },
  {
   "cell_type": "code",
   "execution_count": null,
   "id": "5f8e449c-fef8-4fb4-b133-50f6b80f441b",
   "metadata": {},
   "outputs": [],
   "source": [
    "#plt.figure()"
   ]
  }
 ],
 "metadata": {
  "kernelspec": {
   "display_name": "Python 3 (ipykernel)",
   "language": "python",
   "name": "python3"
  },
  "language_info": {
   "codemirror_mode": {
    "name": "ipython",
    "version": 3
   },
   "file_extension": ".py",
   "mimetype": "text/x-python",
   "name": "python",
   "nbconvert_exporter": "python",
   "pygments_lexer": "ipython3",
   "version": "3.11.7"
  }
 },
 "nbformat": 4,
 "nbformat_minor": 5
}
